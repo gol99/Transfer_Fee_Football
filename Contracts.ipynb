{
 "cells": [
  {
   "cell_type": "markdown",
   "metadata": {},
   "source": [
    "# Introduction\n",
    "For our analysis, we need the reamainig contract length of a player, since it can significantly change the price of a player. The only source that I could find, which has the past contract lengths of a player, is FIFA. Thus, for the 2019/2020 transfer window we want to look at, we can use a FIFA 19  dataframe and get the contract length of the last season before a player left his club. For this, I downloaded a file from [Kaggle](https://www.kaggle.com/karangadiya/fifa19), which has the data for all players on the game, and saved it as \"FIFA19.csv\"."
   ]
  },
  {
   "cell_type": "code",
   "execution_count": null,
   "metadata": {},
   "outputs": [],
   "source": [
    "import pandas as pd\n",
    "import numpy as np"
   ]
  },
  {
   "cell_type": "markdown",
   "metadata": {},
   "source": [
    "# Data Handling"
   ]
  },
  {
   "cell_type": "code",
   "execution_count": null,
   "metadata": {},
   "outputs": [],
   "source": [
    "#Read in fifa dataframe\n",
    "fifa=pd.read_csv(\"FIFA19.csv\")\n",
    "fifa"
   ]
  },
  {
   "cell_type": "code",
   "execution_count": null,
   "metadata": {},
   "outputs": [],
   "source": [
    "#read in dataframe with transfers\n",
    "transfers=pd.read_pickle(\"transfers.pkl\")\n",
    "transfers"
   ]
  },
  {
   "cell_type": "code",
   "execution_count": null,
   "metadata": {},
   "outputs": [],
   "source": [
    "#Only take the columns we need to get contract lenght of players\n",
    "contracts=fifa[[\"Name\",\"Age\",\"Club\",\"Contract Valid Until\",\"ID\"]]"
   ]
  },
  {
   "cell_type": "code",
   "execution_count": null,
   "metadata": {},
   "outputs": [],
   "source": [
    "#Only take the columns we need to get contract lenght of players\n",
    "transfers=transfers[[\"Left\",\"Joined\",\"Age\"]]\n",
    "transfers"
   ]
  },
  {
   "cell_type": "code",
   "execution_count": null,
   "metadata": {},
   "outputs": [],
   "source": [
    "#Reset index to make iteration simpler\n",
    "transfers.reset_index(inplace=True)"
   ]
  },
  {
   "cell_type": "code",
   "execution_count": null,
   "metadata": {},
   "outputs": [],
   "source": [
    "#add two new columns to store contract length and player id on fifa\n",
    "transfers=pd.concat([transfers,pd.DataFrame(columns=[\"Contract\",\"ID\"])])\n",
    "#Reverse the order of the columns\n",
    "transfers=transfers[list(transfers.columns)[::-1]]\n"
   ]
  },
  {
   "cell_type": "code",
   "execution_count": null,
   "metadata": {},
   "outputs": [],
   "source": [
    "#make the names of the player more compatibe with FIFA\n",
    "transfers[\"Player\"]=transfers.Player.replace({'-':' ',\"'\":\"\"}, regex=True)\n",
    "transfers"
   ]
  },
  {
   "cell_type": "markdown",
   "metadata": {},
   "source": [
    "# Get Contract length of player\n",
    "Now we can get the contract lenght of the player. One of the problem we have though, is that the player and club names on FIFA and Transfermarkt.ch are not the same. This makes getting the contract length more complicated, since it is not possible to exactly match the player and club names. As a work around, we can use the `SequenceMatcher` moodule form [`difflib`](https://docs.python.org/3/library/difflib.html). This module makes it possible to calculate a \"Similarity-Ratio\" between two strings. With this ratio we can now compare how similar two strings are. If the Names on Fifa and transfermarkt are similar enough, we can then conclude that this is the same player. While this solution will lead us to missing some players and adding some wrong players, it will also allow us to find the contracts of more players. I tried to minimise the amount of errors by comparing the name, the club and the age of the player. Only if all three are similar, I concluded that the players are the same. While there still were some mistakes (the algorithm for instance concluded that  [Javi Hernández](https://www.fifaindex.com/de/player/244523/javi-hern%C3%A1ndez/changelog/) and [Theo Hernández](https://www.fifaindex.com/de/player/232656/theo-hern%C3%A1ndez/) were the same player, since both have a similar name, left the same club (Real Madrid) and are roughly the same age), I could minimise the amount of mistakes this way."
   ]
  },
  {
   "cell_type": "code",
   "execution_count": null,
   "metadata": {},
   "outputs": [],
   "source": [
    "#Source: https://docs.python.org/3/library/difflib.html\n",
    "from difflib import SequenceMatcher\n",
    "import difflib\n",
    "\n",
    "def similar(a, b):\n",
    "    return SequenceMatcher(None, a, b).ratio()"
   ]
  },
  {
   "cell_type": "code",
   "execution_count": null,
   "metadata": {},
   "outputs": [],
   "source": [
    "#Iterate through both dataframe\n",
    "for index,row in transfers.iterrows():\n",
    "    for ind,ro in contracts.iterrows():\n",
    "        try: #If the surname of a player is equals that in FIFA or the surname is similar to that in FIFA, continue\n",
    "            if transfers.iloc[index][\"Player\"].partition(\" \")[-1] in contracts.iloc[ind][\"Name\"] or similar(transfers.iloc[index][\"Player\"].partition(\" \")[-1], contracts.iloc[ind][\"Name\"])>0.6:\n",
    "                names_compare=[]#create name list\n",
    "                indices=[]#create indices list\n",
    "                age_dif=abs(transfers.iloc[index][\"Age\"]-contracts.iloc[ind][\"Age\"])#calculate age difference\n",
    "                #if club name is samilar or fifa club name is in transfermarkt club name and age difference is 1 or smaller: Continue\n",
    "                if similar(transfers.iloc[index][\"Left\"],contracts.iloc[ind][\"Club\"])>0.5 and age_dif<1.5 or contracts.iloc[ind][\"Club\"] in transfers.iloc[index][\"Left\"] and age_dif<1.5:\n",
    "                    names_compare.extend([transfers.iloc[index][\"Left\"],transfers.iloc[index][\"Joined\"]])#add all players that are similar\n",
    "                    indices.append(ind)#add their index\n",
    "                if len(names_compare)>0:#if there are such players: Continue\n",
    "                    closest=difflib.get_close_matches(contracts.iloc[ind][\"Club\"],names_compare,1,0)#Look which club name is most similar\n",
    "                    indice=names_compare.index(closest[0])//2\n",
    "                    transfers.iloc[index,3]=contracts.iloc[indices[indice]][\"ID\"]#add most similar players id\n",
    "                    transfers.iloc[index,4]=contracts.iloc[indices[indice]][\"Contract Valid Until\"] #add most similar player contract length\n",
    "        except TypeError:\n",
    "            continue"
   ]
  },
  {
   "cell_type": "code",
   "execution_count": null,
   "metadata": {},
   "outputs": [],
   "source": [
    "#drop all players that lack contract length\n",
    "transfers=transfers.dropna()"
   ]
  },
  {
   "cell_type": "code",
   "execution_count": null,
   "metadata": {},
   "outputs": [],
   "source": [
    "#reset index\n",
    "transfers=transfers.reset_index().drop(\"index\",axis=1)"
   ]
  },
  {
   "cell_type": "markdown",
   "metadata": {},
   "source": [
    "Since the Contract Values for some players are wrong, since they were loaned out right before being sold, we need to get their contract length through webscraping. For those players, we use [fifaindex.com](https://www.fifaindex.com/) and try to find their contract length there:"
   ]
  },
  {
   "cell_type": "code",
   "execution_count": null,
   "metadata": {},
   "outputs": [],
   "source": [
    "#import packages for webscraping\n",
    "import requests\n",
    "from bs4 import BeautifulSoup"
   ]
  },
  {
   "cell_type": "code",
   "execution_count": null,
   "metadata": {},
   "outputs": [],
   "source": [
    "#Create list with all invalide contract values\n",
    "invalids=['Jun 30, 2019', '2019', '2018', 'Dec 31, 2018', 'Jun 30, 2020']\n",
    "for index,row in transfers.iterrows():#iterate through transfers df\n",
    "    if transfers.iloc[index][\"Contract\"] in invalids: #check if contract value is in invalids and continue if this the case\n",
    "        name=transfers.iloc[index][\"Player\"].replace(\" \",\"-\")#adjust the name for the url\n",
    "        ids=transfers.iloc[index][\"ID\"]#get player id fou URL\n",
    "        print(name)\n",
    "        page=\"https://www.fifaindex.com/de/player/\"+str(ids)+\"/\" +name+\"/changelog/\"#create URL link for player\n",
    "        html = requests.get(page).text #get webpage\n",
    "        data = BeautifulSoup(html, 'html5')#create BeatifulSoup object\n",
    "        all_text=data.find_all(\"div\",{\"class\":\"card mb-5\"})#get relevant html code\n",
    "        d=0\n",
    "        for i in range(len(all_text)):#iterate through parts where contract length could be\n",
    "            if \"Vertragsdauer\" in all_text[i].text and \"202\" in all_text[i].text:#check if it is contract length and make sure it is the right contract\n",
    "                d=d+1#in order to just check the first one\n",
    "                con=all_text[i].find_all(\"div\",{\"class\":\"mb-2 col-6\"})#get html code of where contract length could be\n",
    "                if d<1.1:\n",
    "                        for n in range(len(con)):#iterate through relevant part\n",
    "                            if \"Vertragsdauer\" in con[n].text and  \"202\" in con[n].text and \"FIFA 20\" in all_text[i].text:#chck wheter it's the right contract and get contract value\n",
    "                                if int(con[n].text[15:19])>2019:#\n",
    "                                    print(name)\n",
    "                                    print(con[n].text[15:19])\n",
    "                                    transfers.iloc[index,4]=con[n].text[15:19]\n",
    "                                elif int(con[n].text[15:19])<=2019:\n",
    "                                    transfers.iloc[index,4]=con[n].text[21:25]\n",
    "                                    print(name)\n",
    "                                    print(con[n].text[21:25])\n",
    "                            elif \"Vertragsdauer\" in con[n].text and \"202\" in con[n].text:\n",
    "                                if int(con[n].text[15:19])<=2019:\n",
    "                                    transfers.iloc[index,4]=con[n].text[21:25]\n",
    "                                    print(name)\n",
    "                                    print(con[n].text[21:25])\n",
    "                            "
   ]
  },
  {
   "cell_type": "code",
   "execution_count": null,
   "metadata": {},
   "outputs": [],
   "source": [
    "#drop all rows which still have invalid contracts\n",
    "index_drop=[]\n",
    "for index, row in transfers.iterrows():\n",
    "    if transfers.iloc[index,4] in invalids:\n",
    "        index_drop.append(index)\n",
    "transfers.drop(index_drop,axis=0,inplace=True)"
   ]
  },
  {
   "cell_type": "code",
   "execution_count": null,
   "metadata": {},
   "outputs": [],
   "source": [
    "#Change contract value from string to numeric\n",
    "transfers[\"Contract\"]=pd.to_numeric(transfers[\"Contract\"])"
   ]
  },
  {
   "cell_type": "code",
   "execution_count": null,
   "metadata": {},
   "outputs": [],
   "source": [
    "#Get remaining years on contract\n",
    "transfers[\"Contract\"]=transfers[\"Contract\"]-2019"
   ]
  },
  {
   "cell_type": "code",
   "execution_count": null,
   "metadata": {},
   "outputs": [],
   "source": [
    "#change index to player names\n",
    "transfers.index=transfers[\"Player\"]"
   ]
  },
  {
   "cell_type": "code",
   "execution_count": null,
   "metadata": {},
   "outputs": [],
   "source": [
    "#save dataframe as pickle\n",
    "transfers.to_pickle(\"contracts.pkl\")"
   ]
  }
 ],
 "metadata": {
  "kernelspec": {
   "display_name": "Python 3",
   "language": "python",
   "name": "python3"
  },
  "language_info": {
   "codemirror_mode": {
    "name": "ipython",
    "version": 3
   },
   "file_extension": ".py",
   "mimetype": "text/x-python",
   "name": "python",
   "nbconvert_exporter": "python",
   "pygments_lexer": "ipython3",
   "version": "3.8.3"
  }
 },
 "nbformat": 4,
 "nbformat_minor": 4
}
