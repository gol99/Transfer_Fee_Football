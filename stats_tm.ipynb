{
 "cells": [
  {
   "cell_type": "markdown",
   "metadata": {},
   "source": [
    "# Introduction\n",
    "After having gotten the transfer data from transfermarkt.ch, we can also get individual player stats from this website. For this, we need to scrape the website again:"
   ]
  },
  {
   "cell_type": "code",
   "execution_count": null,
   "metadata": {},
   "outputs": [],
   "source": [
    "#import packages\n",
    "import requests\n",
    "from bs4 import BeautifulSoup\n",
    "import numpy as np\n",
    "import pandas as pd"
   ]
  },
  {
   "cell_type": "markdown",
   "metadata": {},
   "source": [
    "# Web Scraping preperation\n",
    "Before we can scrape the data for every player, we need to make some preperations:"
   ]
  },
  {
   "cell_type": "code",
   "execution_count": null,
   "metadata": {},
   "outputs": [],
   "source": [
    "#get transfer data\n",
    "file=\"Transfers.pkl\"\n",
    "transfers=pd.read_pickle(file)"
   ]
  },
  {
   "cell_type": "code",
   "execution_count": null,
   "metadata": {},
   "outputs": [],
   "source": [
    "#get player names and ids for which we need data\n",
    "players=list(transfers.index)\n",
    "ids=list(transfers.ID)"
   ]
  },
  {
   "cell_type": "code",
   "execution_count": null,
   "metadata": {},
   "outputs": [],
   "source": [
    "#adjsut player name so it can be used for the url\n",
    "players_html=[]\n",
    "for name in players:\n",
    "    name=name.replace(\"'\",\"\")\n",
    "    name=name.replace(\".\",\"\")\n",
    "    players_html.append(name.replace(\" \",\"-\"))\n",
    "players_html"
   ]
  },
  {
   "cell_type": "code",
   "execution_count": null,
   "metadata": {},
   "outputs": [],
   "source": [
    "#Create empty lists to store data/theml code\n",
    "stats=[]\n",
    "total=[]\n",
    "heights=[]\n",
    "current_team=[]"
   ]
  },
  {
   "cell_type": "markdown",
   "metadata": {},
   "source": [
    "# Web Scraping\n",
    "Now that we have done the necessary prepatations, we can scrape the website:"
   ]
  },
  {
   "cell_type": "code",
   "execution_count": null,
   "metadata": {},
   "outputs": [],
   "source": [
    "#This is used so transfermarkt thinks we are a webbrowser and not a scrapper\n",
    "headers = {'User-Agent': \n",
    "    'Mozilla/5.0 (X11; Linux x86_64) AppleWebKit/537.36 (KHTML, like Gecko) Chrome/47.0.2526.106 Safari/537.36'}"
   ]
  },
  {
   "cell_type": "code",
   "execution_count": null,
   "metadata": {},
   "outputs": [],
   "source": [
    "#iterate through all players\n",
    "for i in range(len(ids)):\n",
    "    #webpage\n",
    "    page=\"https://www.transfermarkt.co.uk/\"+players_html[i]+\"/leistungsdatendetails/spieler/\"+ids[i]+\"/saison/2018/verein/0/liga/0/wettbewerb//pos/0/trainer_id/0/plus/1\"\n",
    "    #grab the code of the page and assign it to ‘pageTree‘\n",
    "    pageTree = requests.get(page, headers=headers)\n",
    "    #parses the website code into html\n",
    "    pageSoup = BeautifulSoup(pageTree.content, 'html.parser')\n",
    "    #‘find_all’ function to look for the tags in the page\n",
    "    stats.append(pageSoup.find_all(\"td\", {\"class\": \"zentriert\"}))\n",
    "    total.append(pageSoup.find_all(\"td\", {\"class\": \"rechts\"}))\n",
    "    heights.append(pageSoup.find_all(\"span\", {\"class\": \"dataValue\"}))\n",
    "    current_team.append(pageSoup.find_all(\"a\", {\"class\": \"vereinprofil_tooltip\"}))"
   ]
  },
  {
   "cell_type": "markdown",
   "metadata": {},
   "source": [
    "# Get data from HTML code\n",
    "Now that we have the html code, we can get the data we need for the Analysis from it."
   ]
  },
  {
   "cell_type": "code",
   "execution_count": null,
   "metadata": {},
   "outputs": [],
   "source": [
    "#Get the current team\n",
    "team_now=[]\n",
    "num=0\n",
    "for player in current_team:\n",
    "    num=num+1\n",
    "    try:\n",
    "        team_now.append(player[1].find(\"img\")[\"alt\"])\n",
    "    except TypeError:\n",
    "        team_now.append(np.nan)\n",
    "    except IndexError:\n",
    "        team_now.append(np.nan)"
   ]
  },
  {
   "cell_type": "code",
   "execution_count": null,
   "metadata": {},
   "outputs": [],
   "source": [
    "#converse the data to numeric\n",
    "def str_conv(lst):\n",
    "    new_list=[]\n",
    "    for item in lst:\n",
    "        if item == \"-\":\n",
    "            new_list.append(0)\n",
    "        else:\n",
    "            try:\n",
    "                new_list.append(float(item))\n",
    "            except ValueError:\n",
    "                new_list.append(np.nan)\n",
    "    return new_list"
   ]
  },
  {
   "cell_type": "code",
   "execution_count": null,
   "metadata": {},
   "outputs": [],
   "source": [
    "#make the list transformation so I can work with the data\n",
    "def list_transform(webdata,index):\n",
    "    lst=[]\n",
    "    for i in range(len(webdata)):\n",
    "        if webdata[i]==[]:#If empty --> np.nan\n",
    "            lst.append(np.nan)\n",
    "        else:\n",
    "            if webdata==total:\n",
    "                number=webdata[i][index].text.replace(\"'\",\"\")#remove \"'\" from numbers\n",
    "                lst.append(number.replace(\".\",\"\"))\n",
    "            elif webdata==heights:\n",
    "                number=webdata[i][index].text.replace(\",\",\"\")#remove \"'\" from numbers\n",
    "                lst.append(number.replace(\" m\",\"\"))#remove \" m\" from height\n",
    "            else:\n",
    "                lst.append(webdata[i][index].text)\n",
    "    lst=str_conv(lst)\n",
    "    return lst"
   ]
  },
  {
   "cell_type": "code",
   "execution_count": null,
   "metadata": {},
   "outputs": [],
   "source": [
    "squad=list_transform(stats,0)"
   ]
  },
  {
   "cell_type": "code",
   "execution_count": null,
   "metadata": {},
   "outputs": [],
   "source": [
    "games_played=list_transform(stats,1)"
   ]
  },
  {
   "cell_type": "code",
   "execution_count": null,
   "metadata": {},
   "outputs": [],
   "source": [
    "PPG=list_transform(stats,2)"
   ]
  },
  {
   "cell_type": "code",
   "execution_count": null,
   "metadata": {},
   "outputs": [],
   "source": [
    "goals=list_transform(stats,3)\n"
   ]
  },
  {
   "cell_type": "code",
   "execution_count": null,
   "metadata": {},
   "outputs": [],
   "source": [
    "assists=list_transform(stats,4)"
   ]
  },
  {
   "cell_type": "code",
   "execution_count": null,
   "metadata": {},
   "outputs": [],
   "source": [
    "own_goals=list_transform(stats,5)"
   ]
  },
  {
   "cell_type": "code",
   "execution_count": null,
   "metadata": {},
   "outputs": [],
   "source": [
    "sub_on=list_transform(stats,6)"
   ]
  },
  {
   "cell_type": "code",
   "execution_count": null,
   "metadata": {},
   "outputs": [],
   "source": [
    "sub_off=list_transform(stats,7)"
   ]
  },
  {
   "cell_type": "code",
   "execution_count": null,
   "metadata": {},
   "outputs": [],
   "source": [
    "yellow_cards=list_transform(stats,8)"
   ]
  },
  {
   "cell_type": "code",
   "execution_count": null,
   "metadata": {},
   "outputs": [],
   "source": [
    "red_cards=list_transform(stats,9)"
   ]
  },
  {
   "cell_type": "code",
   "execution_count": null,
   "metadata": {},
   "outputs": [],
   "source": [
    "two_yellows=list_transform(stats,10)"
   ]
  },
  {
   "cell_type": "code",
   "execution_count": null,
   "metadata": {},
   "outputs": [],
   "source": [
    "penalty_goals=list_transform(stats,11)"
   ]
  },
  {
   "cell_type": "code",
   "execution_count": null,
   "metadata": {},
   "outputs": [],
   "source": [
    "minutes_field=list_transform(total,2)"
   ]
  },
  {
   "cell_type": "code",
   "execution_count": null,
   "metadata": {},
   "outputs": [],
   "source": [
    "minutes_GK=list_transform(total,1)"
   ]
  },
  {
   "cell_type": "code",
   "execution_count": null,
   "metadata": {},
   "outputs": [],
   "source": [
    "height=list_transform(heights,3)"
   ]
  },
  {
   "cell_type": "code",
   "execution_count": null,
   "metadata": {},
   "outputs": [],
   "source": [
    "#get position of player\n",
    "positions=[]\n",
    "for i in range(len(heights)):\n",
    "    position=heights[i][4].text[9:].replace(\" \",\"\")\n",
    "    positions.append(position)"
   ]
  },
  {
   "cell_type": "markdown",
   "metadata": {},
   "source": [
    "# Data Handling\n",
    "Now that we have all the data we need in columns, we can create the transfer fee dataframe and perform the necessary data transformations."
   ]
  },
  {
   "cell_type": "code",
   "execution_count": null,
   "metadata": {},
   "outputs": [],
   "source": [
    "#Create dataframe and drop rows where data missing\n",
    "df = pd.DataFrame({\"Player\":players,\"ID\":ids,\"Position\":positions,\"Current Team (2020/21)\":team_now,\"Height (cm)\":height,\"Games in Squad\":squad,\"Games Played\":games_played,\"Points per game\":PPG,\"Goals\":goals,\"Assists\":assists,\"Own goals\":own_goals,\"Games subbed on\":sub_on, \"Games subbed off\":sub_off,\"Yellow Cards\":yellow_cards,\"Red Cards\":red_cards,\"Two Yellow Cards\":two_yellows,\"Penalty Goals\":penalty_goals,\"Minutes Field\":minutes_field,\"Minutes GK\":minutes_GK})\n",
    "df.dropna(inplace=True)"
   ]
  },
  {
   "cell_type": "code",
   "execution_count": null,
   "metadata": {},
   "outputs": [],
   "source": [
    "#Set player name as index\n",
    "df.index=df[\"Player\"]\n",
    "df.drop(\"Player\", axis=1, inplace=True)\n",
    "df"
   ]
  },
  {
   "cell_type": "code",
   "execution_count": null,
   "metadata": {},
   "outputs": [],
   "source": [
    "#If goalkeeper --> 1, else-->0\n",
    "df[\"Position\"]=df[\"Position\"]==\"Goalkeeper\"\n",
    "df[\"Position\"]=df[\"Position\"].astype(int)\n",
    "df.rename(columns={'Position': 'Position (GK: 1, Other: 0)'},inplace=True)\n",
    "df"
   ]
  },
  {
   "cell_type": "code",
   "execution_count": null,
   "metadata": {},
   "outputs": [],
   "source": [
    "#save dataframe\n",
    "df.to_pickle(\"stats_tm.pkl\")"
   ]
  }
 ],
 "metadata": {
  "kernelspec": {
   "display_name": "Python 3",
   "language": "python",
   "name": "python3"
  },
  "language_info": {
   "codemirror_mode": {
    "name": "ipython",
    "version": 3
   },
   "file_extension": ".py",
   "mimetype": "text/x-python",
   "name": "python",
   "nbconvert_exporter": "python",
   "pygments_lexer": "ipython3",
   "version": "3.8.3"
  }
 },
 "nbformat": 4,
 "nbformat_minor": 4
}
