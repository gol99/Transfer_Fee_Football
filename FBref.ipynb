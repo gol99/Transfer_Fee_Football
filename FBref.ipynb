{
 "cells": [
  {
   "cell_type": "markdown",
   "metadata": {},
   "source": [
    "# Introduction\n",
    "For our analysis, more detailed data than provided by transfermarkt.ch would be helpful. Such data is provided by [fbref.com](https://fbref.com/en/). In this notebook we will try to get that data."
   ]
  },
  {
   "cell_type": "code",
   "execution_count": null,
   "metadata": {
    "scrolled": false
   },
   "outputs": [],
   "source": [
    "#pip install sportsipy"
   ]
  },
  {
   "cell_type": "code",
   "execution_count": null,
   "metadata": {
    "scrolled": false
   },
   "outputs": [],
   "source": [
    "#import packages\n",
    "import requests\n",
    "from bs4 import BeautifulSoup\n",
    "import numpy as np\n",
    "import pandas as pd"
   ]
  },
  {
   "cell_type": "markdown",
   "metadata": {},
   "source": [
    "# Webscraping preperation\n",
    "Before we can scrape through the website, we will need to make some preperations:\n",
    "## Get Player ids for the URL"
   ]
  },
  {
   "cell_type": "code",
   "execution_count": null,
   "metadata": {
    "scrolled": false
   },
   "outputs": [],
   "source": [
    "#get the players for which we need data\n",
    "file=\"stats_tm.pkl\"\n",
    "tm=pd.read_pickle(file)"
   ]
  },
  {
   "cell_type": "code",
   "execution_count": null,
   "metadata": {
    "scrolled": false
   },
   "outputs": [],
   "source": [
    "#create list withe the name of the players and there current team\n",
    "player_list=[]\n",
    "team_list=[]\n",
    "for index, row inn tm.iterrows():\n",
    "    player_list.append(index)\n",
    "    team_list.append(row[\"Current Team (2020/21)\"])"
   ]
  },
  {
   "cell_type": "code",
   "execution_count": null,
   "metadata": {
    "scrolled": true
   },
   "outputs": [],
   "source": [
    "#The url for each player on fbref includes a unique player id.To get this id we can use the sportsipy api, which provides\n",
    "# the id we need. However, the api does not contain all ids for all players, which is why a lot of player ids will be missing\n",
    "#This also means we can not use these ids/players \n",
    "from sportsipy.fb.roster import Roster\n",
    "\n",
    "#Create dictionary with all players\n",
    "player_dic={}\n",
    "for i in range(len(player_list)):#iterate through all plyaers\n",
    "    try:\n",
    "        team = Roster(team_list[i]) #get team of player\n",
    "        player=team(player_list[i]) #get player\n",
    "        player_dic[player.name.replace(\" \",\"-\")]=player.player_id  # save player id\n",
    "    except ValueError:\n",
    "        continue #if the team/player is not availabe in the api, it raises a Value Error. In that case, the code should just skip that player"
   ]
  },
  {
   "cell_type": "code",
   "execution_count": null,
   "metadata": {},
   "outputs": [],
   "source": [
    "#Save that dictionary with the ids as pickle\n",
    "import pickle\n",
    "f=open(\"player_dic.pkl\",\"wb\")\n",
    "pickle.dump(player_dic,f)\n",
    "f.close()"
   ]
  },
  {
   "cell_type": "markdown",
   "metadata": {},
   "source": [
    "## Dictionary with names for the tables available on fbref.com"
   ]
  },
  {
   "cell_type": "code",
   "execution_count": null,
   "metadata": {},
   "outputs": [],
   "source": [
    "#Create a dictionary with the (Field Player) table we find on fbref.com\n",
    "stats_dic={0:\"Standard\",\n",
    "          1:\"Shooting\",\n",
    "          2:\"Passing\",\n",
    "          3:\"Pass_Types\",\n",
    "          4:\"Goal_and_Shot_Creation\",\n",
    "          5:\"Defensive_Actions\",\n",
    "          6:\"Possession\",\n",
    "          7:\"Playing_Time\",\n",
    "          8:\"Miscellaneous\"}"
   ]
  },
  {
   "cell_type": "code",
   "execution_count": null,
   "metadata": {},
   "outputs": [],
   "source": [
    "#Create a dictionary with the Goalkeeper tables table we find on fbref.com\n",
    "gk_stats_dic={0:\"Standard\",1:\"Advanced Goalkeeping\"}"
   ]
  },
  {
   "cell_type": "markdown",
   "metadata": {},
   "source": [
    "## Functions to create the necessary Dataframes out of the html codes"
   ]
  },
  {
   "cell_type": "code",
   "execution_count": null,
   "metadata": {},
   "outputs": [],
   "source": [
    "#get position of the player\n",
    "def get_position(data):\n",
    "    details=data.find_all(\"p\")\n",
    "    if details[0].text[0:8]==\"Position\":\n",
    "        details=details[0].text\n",
    "    elif details[1].text[0:8]==\"Position\":\n",
    "        details=details[1].text\n",
    "    elif details[2].text[0:8]==\"Position\":\n",
    "        details=details[2].text\n",
    "    return details"
   ]
  },
  {
   "cell_type": "code",
   "execution_count": null,
   "metadata": {},
   "outputs": [],
   "source": [
    "#get foot of the player\n",
    "def get_foot(details):\n",
    "    if \"% Right\" in details:\n",
    "            return \"Right\"\n",
    "    elif \"% Left\" in details:\n",
    "        return \"Left\"\n",
    "    else:\n",
    "        return np.nan"
   ]
  },
  {
   "cell_type": "code",
   "execution_count": null,
   "metadata": {},
   "outputs": [],
   "source": [
    "#get unique values of a list while preserving order\n",
    "def unique_values(lst):\n",
    "    seen = set()\n",
    "    seen_add = seen.add\n",
    "    return [x for x in lst if not (x in seen or seen_add(x))]"
   ]
  },
  {
   "cell_type": "code",
   "execution_count": null,
   "metadata": {},
   "outputs": [],
   "source": [
    "# Create a dataframe out of the data (rows) we have, with the columns we get from another function and the seasons for which\n",
    "#data is available\n",
    "def df_creation(rows,columns,seasons):\n",
    "    n=len(seasons) #only put data for specific seasnons in df\n",
    "    x=columns.index(\"Age\")#get index of age attribute, since we need all later columns\n",
    "    df = pd.DataFrame(rows[0:n], columns=columns[x:x+len(rows[0])], index=seasons)#create df\n",
    "    return df"
   ]
  },
  {
   "cell_type": "code",
   "execution_count": null,
   "metadata": {},
   "outputs": [],
   "source": [
    "#get all seasons in which player has played\n",
    "def get_seasons(columns, index):\n",
    "    seasons=[]\n",
    "    for season in index:\n",
    "        seasons.append(columns[season])\n",
    "    return seasons"
   ]
  },
  {
   "cell_type": "code",
   "execution_count": null,
   "metadata": {},
   "outputs": [],
   "source": [
    "#get the table data from the html code (given by tr and td)\n",
    "def get_data(alpha,ind):\n",
    "    rows = [] #initliaze list to store all rows of data\n",
    "    for rownum, row in enumerate(alpha[ind].find_all('tr')): #find all rows in table\n",
    "        if len(row.find_all('td')) > 0: \n",
    "            rowdata = [] #initiliaze list of row data\n",
    "            for i in range(len(row.find_all('td'))): #get all column values for row\n",
    "                rowdata.append(row.find_all('td')[i].text)\n",
    "            rows.append(rowdata)\n",
    "    return rows"
   ]
  },
  {
   "cell_type": "code",
   "execution_count": null,
   "metadata": {},
   "outputs": [],
   "source": [
    "#get all column names from html code\n",
    "def get_columns(alpha,ind):\n",
    "    columns=[]\n",
    "    for header in alpha[ind].find_all('th'):\n",
    "        columns.append(header.string)\n",
    "    return columns"
   ]
  },
  {
   "cell_type": "code",
   "execution_count": null,
   "metadata": {},
   "outputs": [],
   "source": [
    "#find all tables in html code and return them\n",
    "def get_alpha(page):\n",
    "    return data.find_all(\"table\")"
   ]
  },
  {
   "cell_type": "code",
   "execution_count": null,
   "metadata": {},
   "outputs": [],
   "source": [
    "#function that combine previous functions to create the dataframe\n",
    "def get_df(alpha,ind,Season):\n",
    "    columns=get_columns(alpha,ind)\n",
    "    index=get_index(columns)\n",
    "    rows=get_data(alpha,ind)\n",
    "    seasons=get_seasons(columns,index)\n",
    "    df=df_creation(rows,columns,seasons)\n",
    "    df=df.loc[Season]\n",
    "    return df"
   ]
  },
  {
   "cell_type": "code",
   "execution_count": null,
   "metadata": {},
   "outputs": [],
   "source": [
    "#makes sure that columns only include the Seasons in which a player has played and drops all other columns\n",
    "def get_index(columns):\n",
    "    index=[]\n",
    "    for i,e in enumerate(columns):\n",
    "        try:\n",
    "            if \"20\" in e:\n",
    "                index.append(i)\n",
    "        except TypeError:\n",
    "            continue\n",
    "    return index"
   ]
  },
  {
   "cell_type": "code",
   "execution_count": null,
   "metadata": {},
   "outputs": [],
   "source": [
    "#There are 9 different tables with data. Since every table is multiple times in the html resultset \"alpha\", we need to find\n",
    "#the first appearance of every table so we don't have and duplicates\n",
    "def get_index_table(alpha):\n",
    "    index_tables=[0]\n",
    "    for i in range(len(alpha)):\n",
    "        columns=[]\n",
    "        for header in alpha[i].find_all('th'):\n",
    "            columns.append(header.string)\n",
    "        if i!=0:\n",
    "            if unique_values(columns_compare)[1]!=unique_values(columns)[1]:\n",
    "                index_tables.append(i)\n",
    "        columns_compare=columns\n",
    "    return index_tables"
   ]
  },
  {
   "cell_type": "code",
   "execution_count": null,
   "metadata": {},
   "outputs": [],
   "source": [
    "#There are 9 different tables with data. Since every table is multiple times in the html resultset \"alpha\", we need to find\n",
    "#the first appearance of every table so we don't have and duplicates\n",
    "def get_index_table_gk(alpha):\n",
    "    index_tables=[0]\n",
    "    for i in range(len(alpha)):\n",
    "        columns=[]\n",
    "        for header in alpha[i].find_all('th'):\n",
    "            columns.append(header.string)\n",
    "        if i!=0:\n",
    "            if unique_values(columns_compare)[1]!=unique_values(columns)[1]:\n",
    "                index_tables.append(i)\n",
    "                break\n",
    "        columns_compare=columns\n",
    "    return index_tables"
   ]
  },
  {
   "cell_type": "code",
   "execution_count": null,
   "metadata": {},
   "outputs": [],
   "source": [
    "#drops df of player for which we miss some values\n",
    "def drop_empty(df):\n",
    "    for index, row in df.iterrows():\n",
    "        for i in row:\n",
    "            if i==\"\":\n",
    "                df.drop(index, axis=0,inplace=True)\n",
    "                break\n",
    "    return df"
   ]
  },
  {
   "cell_type": "code",
   "execution_count": null,
   "metadata": {},
   "outputs": [],
   "source": [
    "#transform the numbers in the df into a formar we can later work with\n",
    "def clean_numbers(df):\n",
    "    for index,row in df.iterrows():\n",
    "        for i in range(len(row)):\n",
    "            row[i]=row[i].replace(\",\",\"\")\n",
    "        row=row.replace(\"\",\"0\")#replaces instances with no values with a 0 (for instance if player has not taken a penalty, it shows \"\" instead of 0)\n",
    "    return df"
   ]
  },
  {
   "cell_type": "code",
   "execution_count": null,
   "metadata": {},
   "outputs": [],
   "source": [
    "#adds a row with the total of all competitions for a player in a season\n",
    "def add_total(df):\n",
    "    comp=list(df.index)\n",
    "    df=df.append(df.sum(numeric_only=True), ignore_index=True)\n",
    "    comp.append(\"Total\")\n",
    "    df.index=comp\n",
    "    return df"
   ]
  },
  {
   "cell_type": "code",
   "execution_count": null,
   "metadata": {},
   "outputs": [],
   "source": [
    "#checks if data is missing in a series object (if a lot of values in sucession are \"\") or if it should actually be a 0\n",
    "# if missing: replace entire series with invalid. If should be 0: Leave row as it is and replace \"\" with 0 with another function\n",
    "#later\n",
    "def check_missing_data_ser(ser):\n",
    "    num=4\n",
    "    k=len(ser)-num\n",
    "    for i in range(k):\n",
    "        a=list(ser)[i:i+num].count(\"\")\n",
    "        if a==num:\n",
    "            ser[:]=\"Invalid\"\n",
    "            break\n",
    "    return ser"
   ]
  },
  {
   "cell_type": "code",
   "execution_count": null,
   "metadata": {},
   "outputs": [],
   "source": [
    "# chcecks missing data for an entire dataframe\n",
    "def check_missing_data_df(df):\n",
    "    for index, row in df.iterrows():\n",
    "        check_missing_data_ser(row)\n",
    "    return df"
   ]
  },
  {
   "cell_type": "code",
   "execution_count": null,
   "metadata": {},
   "outputs": [],
   "source": [
    "#drops rows that were deemed invalid\n",
    "def drop_invalid(df):\n",
    "    df = df[df.Age != \"Invalid\"]\n",
    "    return df"
   ]
  },
  {
   "cell_type": "code",
   "execution_count": null,
   "metadata": {},
   "outputs": [],
   "source": [
    "# Creates dataframe if data for a player was only available for a single competition\n",
    "def df_single_comp(df):\n",
    "    df=check_missing_data_ser(df)\n",
    "    if df[0]==\"Invalid\":\n",
    "         return None\n",
    "    df=df.to_frame().T.drop([\"Comp\",\"Squad\",\"Country\",\"Age\",\"Matches\"],axis=1)\n",
    "    if \"LgRank\" in df.columns:\n",
    "        df.drop(\"LgRank\", axis=1,inplace=True)\n",
    "    df=clean_numbers(df)\n",
    "    df=df.apply(pd.to_numeric)\n",
    "    df.index=[\"Total\"]\n",
    "    return df"
   ]
  },
  {
   "cell_type": "code",
   "execution_count": null,
   "metadata": {},
   "outputs": [],
   "source": [
    "# Creates dataframe if data for a player was available for multiple competitions\n",
    "def df_mult_comp(df):\n",
    "    df=check_missing_data_df(df)\n",
    "    df=drop_invalid(df)\n",
    "    if df is None:\n",
    "        return df\n",
    "    if df.empty:\n",
    "        return df\n",
    "    df.index=df[\"Comp\"]\n",
    "    df=df.drop([\"Age\",\"Squad\",\"Country\",\"Matches\",\"Comp\"],axis=1)\n",
    "    if \"LgRank\" in df.columns:\n",
    "        df.drop(\"LgRank\", axis=1,inplace=True)\n",
    "    df=clean_numbers(df)\n",
    "    df=df.replace(\"\",\"0\")\n",
    "    df=df.apply(pd.to_numeric)\n",
    "    df=df.dropna()\n",
    "    if df.empty:\n",
    "        return df\n",
    "    df=add_total(df)\n",
    "    return df"
   ]
  },
  {
   "cell_type": "code",
   "execution_count": null,
   "metadata": {},
   "outputs": [],
   "source": [
    "# function that gets all stats for a player with the previous functions and stores them in a dictionary for every player\n",
    "# (9 df per player)\n",
    "def player_stats(data,Season):\n",
    "    empty_dic={}\n",
    "    alpha=get_alpha(data)\n",
    "    index_tables=get_index_table(alpha)\n",
    "    for ind in index_tables:\n",
    "        df=get_df(alpha,ind,Season)\n",
    "        if type(df)==pd.core.series.Series:\n",
    "            df=df_single_comp(df)\n",
    "        else:\n",
    "            df=df_mult_comp(df)\n",
    "        if ind%6==0:\n",
    "            empty_dic[stats_dic[ind/6]]=df\n",
    "        elif ind%5==0 and ind!=0:\n",
    "            empty_dic[stats_dic[ind/5]]=df\n",
    "    return empty_dic"
   ]
  },
  {
   "cell_type": "code",
   "execution_count": null,
   "metadata": {},
   "outputs": [],
   "source": [
    "# function that gets all stats for a GK with the previous functions and stores them in a dictionary for every GK (2 df per GK)\n",
    "def gk_stats(data,Season):\n",
    "    empty_dic={}\n",
    "    alpha=get_alpha(data)\n",
    "    index_tables=get_index_table_gk(alpha)\n",
    "    for ind in index_tables:\n",
    "        df=get_df(alpha,ind,Season)\n",
    "        if type(df)==pd.core.series.Series:\n",
    "            df=df_single_comp(df)\n",
    "        else:\n",
    "            df=df_mult_comp(df)\n",
    "        if ind%6==0:\n",
    "            empty_dic[gk_stats_dic[ind/6]]=df\n",
    "        elif ind%5==0 and ind!=0:\n",
    "            empty_dic[gk_stats_dic[ind/5]]=df\n",
    "        elif ind%4==0 and ind!=0:\n",
    "            empty_dic[gk_stats_dic[ind/4]]=df\n",
    "    return empty_dic"
   ]
  },
  {
   "cell_type": "code",
   "execution_count": null,
   "metadata": {},
   "outputs": [],
   "source": [
    "# define the Season we want to look at and create empty dictionaries to store the data for each postion in a seprate dictionary\n",
    "Season=\"2018-2019\"\n",
    "GK_dic={}\n",
    "DF_dic={}\n",
    "MF_dic={}\n",
    "FW_dic={}\n",
    "foot_dic={}"
   ]
  },
  {
   "cell_type": "markdown",
   "metadata": {},
   "source": [
    "# Webscraping\n",
    "Now that we have done all preperations, we can procede with the actual webscraping:"
   ]
  },
  {
   "cell_type": "code",
   "execution_count": null,
   "metadata": {},
   "outputs": [],
   "source": [
    "for i in range(len(player_dic)):\n",
    "    try:\n",
    "        name=list(player_dic.keys())[i]#get player (url) name\n",
    "        value=player_dic[name]#get player id\n",
    "        page=\"https://fbref.com/en/players/\"+value+\"/all_comps/\"+ name + \"-Stats---All-Competitions\" #get page\n",
    "        html = requests.get(page).text #get webpage\n",
    "        data = BeautifulSoup(html, 'html5') #Create a BeatifulSoup object, from which we can get the data\n",
    "        details=get_position(data) #get part were position and foot are\n",
    "        position=details[10:12] #get position\n",
    "        foot=get_foot(details) #get strong foot of player\n",
    "        foot_dic[name]=foot#store strong foot in dicitonary\n",
    "        if position == \"GK\":#add the data of a player into the corresponding position dictionary\n",
    "            GK_dic[name]=gk_stats(data,Season)\n",
    "        elif position == \"DF\":\n",
    "            DF_dic[name]=player_stats(data,Season)\n",
    "        elif position == \"MF\":\n",
    "            MF_dic[name]=player_stats(data,Season)\n",
    "        elif position == \"FW\":\n",
    "            FW_dic[name]=player_stats(data,Season)\n",
    "        else:\n",
    "            print(f\"Invalid Structure for {name}\")\n",
    "    except KeyError:\n",
    "        print(f\"Key Error for {name}\") #it sometimes raises a key error (for instance for Rodrygo, becuase he didn't play a 2018/2019 seasom)\n",
    "        continue #skip that player\n",
    "    except IndexError: #it raises an IndexError once --> Skip that player\n",
    "        print (f\"IndexError for {name}\")\n",
    "        continue"
   ]
  },
  {
   "cell_type": "markdown",
   "metadata": {},
   "source": [
    "# Data Handling\n",
    "Now that we have all the data, we need to bring it into a form we can work with:\n",
    "## Delete missing data\n",
    "We have some players for which data is missing. Thus, we need to delete those players from the dictionary."
   ]
  },
  {
   "cell_type": "code",
   "execution_count": null,
   "metadata": {},
   "outputs": [],
   "source": [
    "#function that deletes those players from the dictionary that have data missing\n",
    "def del_player_missing_data(dic):\n",
    "    copy=dic.copy()\n",
    "    for player in dic:\n",
    "        if len(dic[player])<9:\n",
    "            del copy[player]\n",
    "    return copy"
   ]
  },
  {
   "cell_type": "code",
   "execution_count": null,
   "metadata": {},
   "outputs": [],
   "source": [
    "#function that deletes those goalkeepers from the dictionary that have data missing\n",
    "def del_player_missing_data_GK(dic):\n",
    "    copy=dic.copy()\n",
    "    for player in dic:\n",
    "        if len(dic[player])<2:\n",
    "            del copy[player]\n",
    "    return copy"
   ]
  },
  {
   "cell_type": "code",
   "execution_count": null,
   "metadata": {},
   "outputs": [],
   "source": [
    "# list with all positions to iterate through\n",
    "positions_all=[\"GK\",\"DF\",\"MF\",\"FW\"]"
   ]
  },
  {
   "cell_type": "code",
   "execution_count": null,
   "metadata": {},
   "outputs": [],
   "source": [
    "#iterate through all positions and delete those players who have data missing\n",
    "for position in positions_all:\n",
    "    if position==\"GK\":\n",
    "        GK_dic=del_player_missing_data_GK(GK_dic)\n",
    "    else:\n",
    "        exec(f\"{position}_dic=del_player_missing_data({position}_dic)\")"
   ]
  },
  {
   "cell_type": "code",
   "execution_count": null,
   "metadata": {},
   "outputs": [],
   "source": [
    "#del player which have a None object instead of a dataframe in at least one case (because data is missing)\n",
    "def del_None(dic):\n",
    "    copy=dic.copy()\n",
    "    for player in dic:\n",
    "        for stat in dic[player]:\n",
    "            if dic[player][stat] is None:\n",
    "                del copy[player]\n",
    "                break\n",
    "    return copy"
   ]
  },
  {
   "cell_type": "code",
   "execution_count": null,
   "metadata": {},
   "outputs": [],
   "source": [
    "#iterate through all positions and delete missing data\n",
    "for position in positions_all:\n",
    "    exec(f\"{position}_dic=del_None({position}_dic)\")"
   ]
  },
  {
   "cell_type": "code",
   "execution_count": null,
   "metadata": {},
   "outputs": [],
   "source": [
    "#delete players which have empty dataframes\n",
    "def del_empty(dic):\n",
    "    copy=dic.copy()\n",
    "    for player in dic:\n",
    "        for stat in dic[player]:\n",
    "            if dic[player][stat].empty:\n",
    "                del copy[player]\n",
    "                break\n",
    "    return copy"
   ]
  },
  {
   "cell_type": "code",
   "execution_count": null,
   "metadata": {},
   "outputs": [],
   "source": [
    "#iterate through all positions and delete empty dataframe\n",
    "for position in positions_all:\n",
    "    exec(f\"{position}_dic=del_empty({position}_dic)\")"
   ]
  },
  {
   "cell_type": "markdown",
   "metadata": {},
   "source": [
    "## Data Transformation\n",
    "For each table, we need the total data for each player for our analysis. Thus, we need to transform the data for each player and create a dataframe with the total value for each table for each player. We then need to add the total values to a dataframe with all players (in a specific position) so we can analyse the dataframe later. For each table, we create a function that cleans the data for that specific table. What the datavalues mean (for instance for npxG+xA/90) can be viewed on this [website](https://fbref.com/en/players/dea698d9/all_comps/Cristiano-Ronaldo-Stats---All-Competitions) for each table *(This is just an explantory link of a player. If you hover over the stat you are intrested in, a text will pop up that explains what that stat means).*"
   ]
  },
  {
   "cell_type": "code",
   "execution_count": null,
   "metadata": {},
   "outputs": [],
   "source": [
    "def standard_transform(dic):\n",
    "    df=pd.DataFrame()\n",
    "    for player in list(dic.keys()):\n",
    "        ddf=dic[player][\"Standard\"]\n",
    "        name_columns=list(ddf.columns)\n",
    "        name_columns[11:16]=['Gls/90', 'Ast/90', 'G+A/90', 'G-PK/90', 'G+A-PK/90']\n",
    "        name_columns[-5:]=['xG/90', 'xA/90', 'xG+xA/90', 'npxG/90', 'npxG+xA/90']\n",
    "        ddf.columns=name_columns\n",
    "        total={}\n",
    "        minutes=ddf.loc[\"Total\",\"90s\"]\n",
    "        total[\"Gls/90\"]=ddf.loc[\"Total\",\"Gls\"]/minutes\n",
    "        total[\"Ast/90\"]=ddf.loc[\"Total\",\"Ast\"]/minutes\n",
    "        total[\"G+A/90\"]=total[\"Gls/90\"]+total[\"Ast/90\"]\n",
    "        total[\"G-PK/90\"]=ddf.loc[\"Total\",\"G-PK\"]/minutes\n",
    "        total[\"G+A-PK/90\"]=total[\"G-PK/90\"]+total[\"Ast/90\"]\n",
    "        total[\"xG/90\"]=ddf.loc[\"Total\",\"xG\"]/minutes\n",
    "        total[\"xA/90\"]=ddf.loc[\"Total\",\"xA\"]/minutes\n",
    "        total[\"xG+xA/90\"]=total[\"xG/90\"]+total[\"xA/90\"]\n",
    "        total[\"npxG/90\"]=ddf.loc[\"Total\",\"npxG\"]/minutes\n",
    "        total[\"npxG+xA/90\"]=ddf.loc[\"Total\",\"npxG+xA\"]/minutes\n",
    "        for key in list(total.keys()):\n",
    "            ddf.loc[\"Total\",key]=total[key]\n",
    "        df[player]=ddf.loc[\"Total\"]\n",
    "    return df.T"
   ]
  },
  {
   "cell_type": "code",
   "execution_count": null,
   "metadata": {},
   "outputs": [],
   "source": [
    "def passing_transform(dic):\n",
    "    df=pd.DataFrame()\n",
    "    for player in list(dic.keys()):\n",
    "        ddf=dic[player][\"Passing\"]\n",
    "        name_columns=['90s','Cmp (Total)','Att (Total)', 'Cmp% (Total)', 'TotDist', 'PrgDist', 'Cmp (Short)', 'Att (Short)', 'Cmp% (Short)', 'Cmp (Medium)', 'Att (Medium)', 'Cmp% (Medium)', 'Cmp (Long)', 'Att (Long)', 'Cmp% (Long)', 'Ast', 'xA', 'A-xA', 'KP', '1/3', 'PPA', 'CrsPA','Prog']\n",
    "        ddf.columns=name_columns\n",
    "        total={}\n",
    "        total[\"Cmp% (Short)\"]=ddf.loc[\"Total\",\"Cmp (Short)\"]/ddf.loc[\"Total\",\"Att (Short)\"]*100\n",
    "        total[\"Cmp% (Medium)\"]=ddf.loc[\"Total\",\"Cmp (Medium)\"]/ddf.loc[\"Total\",\"Att (Medium)\"]*100\n",
    "        total[\"Cmp% (Long)\"]=ddf.loc[\"Total\",\"Cmp (Long)\"]/ddf.loc[\"Total\",\"Att (Long)\"]*100\n",
    "        total[\"Cmp% (Total)\"]=ddf.loc[\"Total\",\"Cmp (Total)\"]/ddf.loc[\"Total\",\"Att (Total)\"]*100\n",
    "        for key in list(total.keys()):\n",
    "            ddf.loc[\"Total\",key]=total[key]\n",
    "        df[player]=ddf.loc[\"Total\"]\n",
    "    return df.T"
   ]
  },
  {
   "cell_type": "code",
   "execution_count": null,
   "metadata": {},
   "outputs": [],
   "source": [
    "def shooting_transform(dic):\n",
    "    df=pd.DataFrame()\n",
    "    for player in list(dic.keys()):\n",
    "        ddf=dic[player][\"Shooting\"]\n",
    "        total={}\n",
    "        minutes=ddf.loc[\"Total\",\"90s\"]\n",
    "        total[\"SoT%\"]=ddf.loc[\"Total\",\"SoT\"]/ddf.loc[\"Total\",\"Sh\"]*100\n",
    "        total[\"Sh/90\"]=ddf.loc[\"Total\",\"Sh\"]/minutes\n",
    "        total[\"SoT/90\"]=ddf.loc[\"Total\",\"SoT\"]/minutes\n",
    "        total[\"G/Sh\"]=ddf.loc[\"Total\",\"Gls\"]/ddf.loc[\"Total\",\"Sh\"]\n",
    "        total[\"G/SoT\"]=ddf.loc[\"Total\",\"Gls\"]/ddf.loc[\"Total\",\"SoT\"]\n",
    "        total[\"npxG/Sh\"]=ddf.loc[\"Total\",\"npxG\"]/ddf.loc[\"Total\",\"Sh\"]\n",
    "        for key in list(total.keys()):\n",
    "            ddf.loc[\"Total\",key]=total[key]\n",
    "        df[player]=ddf.loc[\"Total\"]\n",
    "    return df.T"
   ]
  },
  {
   "cell_type": "code",
   "execution_count": null,
   "metadata": {},
   "outputs": [],
   "source": [
    "def pass_types_transform(dic):\n",
    "    df=pd.DataFrame()\n",
    "    for player in list(dic.keys()):\n",
    "        ddf=dic[player][\"Pass_Types\"]\n",
    "        ddf.columns=name_columns=['90s', 'Att', 'Live', 'Dead', 'FK', 'TB', 'Press', 'Sw', 'Crs', 'CK', 'In (CK)', 'Out (CK)', 'Str (CK)', 'Ground (Height)', 'Low (Height)', 'High (Hight)', 'Left Foot', 'Right Foot', 'Head', 'TI', 'Other Body Part', 'Cmp', 'Off', 'Out', 'Int', 'Blocks']\n",
    "        df[player]=ddf.loc[\"Total\"]\n",
    "    return df.T"
   ]
  },
  {
   "cell_type": "code",
   "execution_count": null,
   "metadata": {},
   "outputs": [],
   "source": [
    "def gasc_transform(dic):\n",
    "    df=pd.DataFrame()\n",
    "    for player in list(dic.keys()):\n",
    "        ddf=dic[player][\"Goal_and_Shot_Creation\"]\n",
    "        name_columns=['90s', 'SCA', 'SCA90', 'PassLive (SCA)', 'PassDead (SCA)', 'Drib (SCA)', 'Sh (SCA)', 'Fld (SCA)', 'Def (SCA)', 'GCA', 'GCA90', 'PassLive (GCA)', 'PassDead (GCA)', 'Drib (GCA)', 'Sh (GCA)', 'Fld (GCA)', 'Def (GCA)']\n",
    "        ddf.columns=name_columns\n",
    "        total={}\n",
    "        minutes=ddf.loc[\"Total\",\"90s\"]\n",
    "        total[\"SCA90\"]=ddf.loc[\"Total\",\"SCA\"]/minutes\n",
    "        total[\"GCA90\"]=ddf.loc[\"Total\",\"GCA\"]/minutes\n",
    "        for key in list(total.keys()):\n",
    "            ddf.loc[\"Total\",key]=total[key]\n",
    "        df[player]=ddf.loc[\"Total\"]\n",
    "    return df.T"
   ]
  },
  {
   "cell_type": "code",
   "execution_count": null,
   "metadata": {},
   "outputs": [],
   "source": [
    "def defensive_transform(dic):\n",
    "    df=pd.DataFrame()\n",
    "    for player in list(dic.keys()):\n",
    "        ddf=dic[player][\"Defensive_Actions\"]\n",
    "        name_columns=['90s', 'Tkl (Total)', 'TklW (Total)', 'Def 3rd (Tkl)', 'Mid 3rd (Tkl)', 'Att 3rd (Tkl)', 'Tkl (vs. dribbles)', 'Att (vs. dribbles)', 'Tkl% (vs. dribbles)', 'Past (vs. dribbles)', 'Press', 'Succ (Press)', 'Succ % (Press)', 'Def 3rd (Press)', 'Mid 3rd (Press)', 'Att 3rd (Press)', 'Blocks', 'Sh', 'ShSv', 'Pass', 'Int', 'Tkl+Int', 'Clr', 'Err']\n",
    "        ddf.columns=name_columns\n",
    "        total={}\n",
    "        total[\"Tkl% (vs. dribbles)\"]=ddf.loc[\"Total\",\"Tkl (vs. dribbles)\"]/ddf.loc[\"Total\",\"Att (vs. dribbles)\"]*100\n",
    "        total[\"Succ % (Press)\"]=ddf.loc[\"Total\",\"Succ (Press)\"]/ddf.loc[\"Total\",\"Press\"]*100\n",
    "        for key in list(total.keys()):\n",
    "            ddf.loc[\"Total\",key]=total[key]\n",
    "        df[player]=ddf.loc[\"Total\"]\n",
    "    return df.T"
   ]
  },
  {
   "cell_type": "code",
   "execution_count": null,
   "metadata": {},
   "outputs": [],
   "source": [
    "def possession_transform(dic):\n",
    "    df=pd.DataFrame()\n",
    "    for player in list(dic.keys()):\n",
    "        ddf=dic[player][\"Possession\"]\n",
    "        name_columns=['90s', 'Touches', 'Def Pen (Touches)', 'Def 3rd (Touches)', 'Mid 3rd (Touches)', 'Att 3rd (Touches)', 'Att Pen (Touches)', 'Live (Touches)', 'Succ (Dribbles)', 'Att (Dribbles)', 'Succ% (Dribbles)', '#Pl (Dribbles)', 'Nutmegs', 'Carries', 'TotDist (Carries)', 'PrgDist (Carries)', 'Prog (Carries)', 'Fin 1/3 (Carries)', 'PA (Carries)', 'Mis (Carries)', 'Dis (Carries)', 'Target of pass', 'Rec', 'Rec%', 'Prog']\n",
    "        ddf.columns=name_columns\n",
    "        total={}\n",
    "        total[\"Succ% (Dribbles)\"]=ddf.loc[\"Total\",\"Succ (Dribbles)\"]/ddf.loc[\"Total\",\"Att (Dribbles)\"]*100\n",
    "        total[\"Rec%\"]=ddf.loc[\"Total\",\"Rec\"]/ddf.loc[\"Total\",\"Target of pass\"]*100\n",
    "        for key in list(total.keys()):\n",
    "            ddf.loc[\"Total\",key]=total[key]\n",
    "        df[player]=ddf.loc[\"Total\"]\n",
    "    return df.T"
   ]
  },
  {
   "cell_type": "code",
   "execution_count": null,
   "metadata": {},
   "outputs": [],
   "source": [
    "def playing_time_transform(dic):\n",
    "    df=pd.DataFrame()\n",
    "    for player in list(dic.keys()):\n",
    "        ddf=dic[player][\"Playing_Time\"]\n",
    "        ddf.drop(\"On-Off\",axis=1, inplace=True)\n",
    "        total={}\n",
    "        minutes=ddf.loc[\"Total\",\"90s\"]\n",
    "        if ddf.shape[0]>2:\n",
    "            mn_start=0\n",
    "            mn_sub=0\n",
    "            min_percent=0\n",
    "            i=0\n",
    "            while i<ddf.shape[0]-1:\n",
    "                min_percent=min_percent+ddf.iloc[i][\"Min\"]*ddf.iloc[i][\"Min%\"]\n",
    "                mn_start=mn_start+ddf.iloc[i][\"Mn/Start\"]*ddf.iloc[i][\"Starts\"]\n",
    "                mn_sub=mn_sub+ddf.iloc[i][\"Mn/Sub\"]*ddf.iloc[i][\"Starts\"]\n",
    "                i=i+1\n",
    "            total[\"Mn/Start\"]=mn_start/ddf.loc[\"Total\",\"Starts\"]\n",
    "            total[\"Mn/Sub\"]=mn_sub/ddf.loc[\"Total\",\"Subs\"]\n",
    "            total[\"Min%\"]=min_percent/ddf.loc[\"Total\",\"Min\"]\n",
    "        total[\"Mn/MP\"]=ddf.loc[\"Total\",\"Min\"]/ddf.loc[\"Total\",\"MP\"]\n",
    "        total[\"+/-90\"]=ddf.loc[\"Total\",\"+/-\"]/minutes\n",
    "        total[\"+/-90\"]=ddf.loc[\"Total\",\"xG+/-\"]/minutes\n",
    "        for key in list(total.keys()):\n",
    "            ddf.loc[\"Total\",key]=total[key]\n",
    "        df[player]=ddf.loc[\"Total\"]\n",
    "    return df.T"
   ]
  },
  {
   "cell_type": "code",
   "execution_count": null,
   "metadata": {},
   "outputs": [],
   "source": [
    "def miscellaneous_transform(dic):\n",
    "    df=pd.DataFrame()\n",
    "    for player in list(dic.keys()):\n",
    "        ddf=dic[player][\"Miscellaneous\"]\n",
    "        name_columns=['90s', 'CrdY', 'CrdR', '2CrdY', 'Fls', 'Fld', 'Off', 'Crs', 'Int', 'TklW', 'PKwon', 'PKcon', 'OG', 'Recov', 'Won (Aerial Duels)', 'Lost (Aerial Duels)', 'Won% (Aerial Duels)']\n",
    "        ddf.columns=name_columns\n",
    "        total={}\n",
    "        total[\"Won% (Aerial Duels)\"]=ddf.loc[\"Total\",\"Won (Aerial Duels)\"]/(ddf.loc[\"Total\",\"Won (Aerial Duels)\"]+ddf.loc[\"Total\",\"Lost (Aerial Duels)\"])*100\n",
    "        for key in list(total.keys()):\n",
    "            ddf.loc[\"Total\",key]=total[key]\n",
    "        df[player]=ddf.loc[\"Total\"]\n",
    "    return df.T"
   ]
  },
  {
   "cell_type": "code",
   "execution_count": null,
   "metadata": {},
   "outputs": [],
   "source": [
    "def gk_standard_transform(dic):\n",
    "    df=pd.DataFrame()\n",
    "    for player in list(dic.keys()):\n",
    "        ddf=dic[player][\"Standard\"]\n",
    "        name_columns=list(ddf.columns) \n",
    "        name_columns[-1]=\"Save% (Penalties)\"\n",
    "        ddf.columns=name_columns\n",
    "        total={}\n",
    "        minutes=comp=ddf.loc[\"Total\",\"90s\"]\n",
    "        total[\"GA90\"]=ddf.loc[\"Total\",\"GA\"]/minutes\n",
    "        total[\"Save%\"]=ddf.loc[\"Total\",\"Saves\"]/ddf.loc[\"Total\",\"SoTA\"]*100\n",
    "        total[\"CS%\"]=ddf.loc[\"Total\",\"CS\"]/ddf.loc[\"Total\",\"MP\"]*100\n",
    "        total[\"Save% (Penalties)\"]=ddf.loc[\"Total\",\"PKsv\"]/ddf.loc[\"Total\",\"PKatt\"]*100\n",
    "        for key in list(total.keys()):\n",
    "            ddf.loc[\"Total\",key]=total[key]\n",
    "        df[player]=ddf.loc[\"Total\"]\n",
    "    return df.T"
   ]
  },
  {
   "cell_type": "code",
   "execution_count": null,
   "metadata": {},
   "outputs": [],
   "source": [
    "def advanced_gk(dic):\n",
    "    df=pd.DataFrame()\n",
    "    for player in list(dic.keys()):\n",
    "        ddf=dic[player][\"Advanced Goalkeeping\"]\n",
    "        name_columns=['90s', 'GA', 'PKA', 'FKA', 'CKA', 'OGA', 'PSxG', 'PSxG/SoT', 'PSxG+/-', 'PSxG+/-/90', 'Cmp (Pass Longer 40Y)', 'Att (Pass Longer 40Y)', 'Cmp% (Pass Longer 40Y)', 'Att (Passes)', 'Att (Throws)', 'Pass Longer 40Y%', 'AvgLen (Pass)', 'Att (GK)', 'Pass Longer 40Y% (GK)', 'AvgLen (GK)', 'Opp (Crosses)', 'Stp (Crosses)', 'Stp% (Crosses)', '#OPA', '#OPA/90', 'AvgDist']\n",
    "        ddf.columns=name_columns\n",
    "        total={}\n",
    "        minutes=comp=ddf.loc[\"Total\",\"90s\"]\n",
    "        total[\"PSxG+/-/90\"]=ddf.loc[\"Total\",\"PSxG+/-\"]/minutes\n",
    "        total[\"Cmp% (Pass Longer 40Y)\"]=ddf.loc[\"Total\",\"Cmp (Pass Longer 40Y)\"]/ddf.loc[\"Total\",\"Att (Pass Longer 40Y)\"]*100\n",
    "        total[\"Stp% (Crosses)\"]=ddf.loc[\"Total\",\"Stp (Crosses)\"]/ddf.loc[\"Total\",\"Opp (Crosses)\"]*100\n",
    "        total[\"#OPA/90\"]=ddf.loc[\"Total\",\"#OPA\"]/minutes\n",
    "        if ddf.shape[0]>2:\n",
    "            SoT=0\n",
    "            launches=0\n",
    "            gk_launches=0\n",
    "            i=0\n",
    "            while i<ddf.shape[0]-1:\n",
    "                SoT=SoT+ddf.iloc[i][\"PSxG\"]/ddf.iloc[i][\"PSxG/SoT\"]\n",
    "                launches=launches+ddf.iloc[i][\"Att (Passes)\"]*ddf.iloc[i][\"Pass Longer 40Y%\"]\n",
    "                gk_launches=gk_launches+ddf.iloc[i][\"Att (GK)\"]*ddf.iloc[i][\"Pass Longer 40Y% (GK)\"]\n",
    "                i=i+1\n",
    "            total[\"PSxG/SoT\"]=ddf.loc[\"Total\",\"PSxG\"]/SoT\n",
    "            total[\"Pass Longer 40Y%\"]=launches/ddf.loc[\"Total\",\"Att (Passes)\"]\n",
    "            total[\"Pass Longer 40Y% (GK)\"]=gk_launches/ddf.loc[\"Total\",\"Att (GK)\"]\n",
    "        for key in list(total.keys()):\n",
    "            ddf.loc[\"Total\",key]=total[key]\n",
    "        df[player]=ddf.loc[\"Total\"]\n",
    "    return df.T"
   ]
  },
  {
   "cell_type": "code",
   "execution_count": null,
   "metadata": {},
   "outputs": [],
   "source": [
    "len(FW_dic)+len(GK_dic)+len(DF_dic)+len(MF_dic)"
   ]
  },
  {
   "cell_type": "code",
   "execution_count": null,
   "metadata": {},
   "outputs": [],
   "source": [
    "#Create total dataframe for goalkeepers with functions created before\n",
    "GK_standard=gk_standard_transform(GK_dic)\n",
    "GK_advanced=advanced_gk(GK_dic)"
   ]
  },
  {
   "cell_type": "code",
   "execution_count": null,
   "metadata": {},
   "outputs": [],
   "source": [
    "#Create list with field positions to iterate through and create an empty dictionary for every position to save the dataframes inside\n",
    "positions=[\"DF\",\"MF\",\"FW\"]\n",
    "files_DF,files_MF,files_FW={},{},{}"
   ]
  },
  {
   "cell_type": "code",
   "execution_count": null,
   "metadata": {},
   "outputs": [],
   "source": [
    "#Itereate through every position and store the corresponding dataframes in the corresponding dictionary.\n",
    "for position in positions:\n",
    "    exec(f\"{position}_standard=standard_transform({position}_dic)\")\n",
    "    exec(f\"{position}_shooting=shooting_transform({position}_dic)\")\n",
    "    exec(f\"{position}_passing=passing_transform({position}_dic)\")\n",
    "    exec(f\"{position}_pass_types=pass_types_transform({position}_dic)\")\n",
    "    exec(f\"{position}_gasc=gasc_transform({position}_dic)\")\n",
    "    exec(f\"{position}_defensive=defensive_transform({position}_dic)\")\n",
    "    exec(f\"{position}_possession=possession_transform({position}_dic)\")\n",
    "    exec(f\"{position}_playing_time=playing_time_transform({position}_dic)\")\n",
    "    exec(f\"{position}_miscellaneous=miscellaneous_transform({position}_dic)\")"
   ]
  },
  {
   "cell_type": "markdown",
   "metadata": {},
   "source": [
    "# Save files\n",
    "Now that we have the dataframes, we will save them as a csv file:"
   ]
  },
  {
   "cell_type": "code",
   "execution_count": null,
   "metadata": {},
   "outputs": [],
   "source": [
    "#Create function that create file name for every table and  poition\n",
    "def FileCreation(position):\n",
    "    exec(f\"files_{position}['{position}/standard.csv']={position}_standard\")\n",
    "    exec(f\"files_{position}['{position}/shooting.csv']={position}_shooting\")\n",
    "    exec(f\"files_{position}['{position}/passing.csv']={position}_passing\")\n",
    "    exec(f\"files_{position}['{position}/pass_types.csv']={position}_pass_types\")\n",
    "    exec(f\"files_{position}['{position}/Goals_and_Shooting_Creation.csv']={position}_gasc\")\n",
    "    exec(f\"files_{position}['{position}/defensive.csv']={position}_defensive\")\n",
    "    exec(f\"files_{position}['{position}/possession.csv']={position}_possession\")\n",
    "    exec(f\"files_{position}['{position}/playing_time.csv']={position}_playing_time\")\n",
    "    exec(f\"files_{position}['{position}/miscellaneous.csv']={position}_miscellaneous\")"
   ]
  },
  {
   "cell_type": "code",
   "execution_count": null,
   "metadata": {},
   "outputs": [],
   "source": [
    "#create the filenames\n",
    "for position in positions:\n",
    "    FileCreation(position)"
   ]
  },
  {
   "cell_type": "code",
   "execution_count": null,
   "metadata": {},
   "outputs": [],
   "source": [
    "#save the GK stats in a csv file\n",
    "GK_standard.to_csv(\"GK/GK_standard.csv\")\n",
    "GK_advanced.to_csv(\"GK/GK_advanced.csv\")"
   ]
  },
  {
   "cell_type": "code",
   "execution_count": null,
   "metadata": {},
   "outputs": [],
   "source": [
    "#create list with all dictionaries\n",
    "field_files=[]\n",
    "for position in positions:\n",
    "    exec(f\"field_files.append(files_{position})\")"
   ]
  },
  {
   "cell_type": "code",
   "execution_count": null,
   "metadata": {},
   "outputs": [],
   "source": [
    "#save all files in the corresponding path\n",
    "for files in field_files:\n",
    "    for file in files:\n",
    "        files[file].to_csv(file)"
   ]
  },
  {
   "cell_type": "code",
   "execution_count": null,
   "metadata": {},
   "outputs": [],
   "source": [
    "# Save dictionary with strong foor of player as pickle\n",
    "import pickle\n",
    "f=open(\"foot_dic.pkl\",\"wb\")\n",
    "pickle.dump(foot_dic,f)\n",
    "f.close()"
   ]
  }
 ],
 "metadata": {
  "kernelspec": {
   "display_name": "Python 3",
   "language": "python",
   "name": "python3"
  },
  "language_info": {
   "codemirror_mode": {
    "name": "ipython",
    "version": 3
   },
   "file_extension": ".py",
   "mimetype": "text/x-python",
   "name": "python",
   "nbconvert_exporter": "python",
   "pygments_lexer": "ipython3",
   "version": "3.8.3"
  }
 },
 "nbformat": 4,
 "nbformat_minor": 4
}
