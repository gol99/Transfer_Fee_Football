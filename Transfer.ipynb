{
 "cells": [
  {
   "cell_type": "markdown",
   "metadata": {},
   "source": [
    "# Introduction\n",
    "In this Notebook the transferfee data for the Season 2019/2020 will be scraped from [transfermarkt.ch](https://www.transfermarkt.ch/transfers/saisontransfers/statistik/top/saison_id/2019/transferfenster/alle/land_id//ausrichtung//spielerposition_id//altersklasse//leihe//plus/1/galerie/0/page/1). This will be the dependent variable in the analysis later. The webscraping will be done with the `requests` and `BeautifulSoup` libraries."
   ]
  },
  {
   "cell_type": "code",
   "execution_count": null,
   "metadata": {},
   "outputs": [],
   "source": [
    "#import packages\n",
    "import requests\n",
    "from bs4 import BeautifulSoup\n",
    "import numpy as np\n",
    "import pandas as pd"
   ]
  },
  {
   "cell_type": "markdown",
   "metadata": {},
   "source": [
    "# Webscraping\n",
    "Since each page only shows the data for 25 players, we will need to iterate through all pages. For this, we first will need to get the last page on which there is transfer data."
   ]
  },
  {
   "cell_type": "code",
   "execution_count": null,
   "metadata": {},
   "outputs": [],
   "source": [
    "#This is used so transfermarkt thinks we are a webbrowser and not a scrapper\n",
    "headers = {'User-Agent': \n",
    "           'Mozilla/5.0 (X11; Linux x86_64) AppleWebKit/537.36 (KHTML, like Gecko) Chrome/47.0.2526.106 Safari/537.36'}\n",
    "#webpage\n",
    "page = \"https://www.transfermarkt.ch/transfers/saisontransfers/statistik/top/saison_id/2019/transferfenster/alle/land_id//ausrichtung//spielerposition_id//altersklasse//leihe//plus/1/galerie/0/page/1\"\n",
    "#grabs the code of the page\n",
    "pageTree = requests.get(page, headers=headers)\n",
    "#parses the website code into html\n",
    "pageSoup = BeautifulSoup(pageTree.content, 'html.parser')\n"
   ]
  },
  {
   "cell_type": "code",
   "execution_count": null,
   "metadata": {},
   "outputs": [],
   "source": [
    "#Find text which indicates last page on which there is data\n",
    "Basics = pageSoup.find_all(\"li\", {\"class\": \"letzte-seite\"})"
   ]
  },
  {
   "cell_type": "code",
   "execution_count": null,
   "metadata": {},
   "outputs": [],
   "source": [
    "#Get part of html code where last page is indicated\n",
    "a=Basics[0]['title']"
   ]
  },
  {
   "cell_type": "code",
   "execution_count": null,
   "metadata": {},
   "outputs": [],
   "source": [
    "#We only need the number, so we can delete all other text\n",
    "res = a.partition(\"(Seite\")[2]"
   ]
  },
  {
   "cell_type": "code",
   "execution_count": null,
   "metadata": {},
   "outputs": [],
   "source": [
    "#With the regex function we can now find just the digits in the text\n",
    "import re\n",
    "last_Site=int(re.search(r'\\d+', res).group())"
   ]
  },
  {
   "cell_type": "code",
   "execution_count": null,
   "metadata": {},
   "outputs": [],
   "source": [
    "#get a list with all page numbers to iterate through later\n",
    "all_pages=list(range(1,last_Site+1))"
   ]
  },
  {
   "cell_type": "code",
   "execution_count": null,
   "metadata": {},
   "outputs": [],
   "source": [
    "#Create empty lists to store webscraping data for dataframe later\n",
    "Basics=[]\n",
    "age=[]\n",
    "club=[]"
   ]
  },
  {
   "cell_type": "code",
   "execution_count": null,
   "metadata": {},
   "outputs": [],
   "source": [
    "#iterate through every page and get the relevant data\n",
    "for i in all_pages:\n",
    "\n",
    "    #webpage\n",
    "    page = \"https://www.transfermarkt.ch/transfers/saisontransfers/statistik/top/saison_id/2019/transferfenster/alle/land_id//ausrichtung//spielerposition_id//altersklasse//leihe//plus/1/galerie/0/page/\"+str(i)\n",
    "    #grabs the code of the page\n",
    "    pageTree = requests.get(page, headers=headers)\n",
    "    #parses the website code into html\n",
    "    pageSoup = BeautifulSoup(pageTree.content, 'html.parser')\n",
    "    \n",
    "    Basics.append(pageSoup.find_all(\"td\", {\"class\": \"hauptlink\"}))#get transfer fee\n",
    "    age.append(pageSoup.find_all(\"td\", {\"class\":\"zentriert\"}))#get age of player\n",
    "    club.append(pageSoup.find_all(\"a\", {\"class\": \"vereinprofil_tooltip\"}))#get full club names"
   ]
  },
  {
   "cell_type": "markdown",
   "metadata": {},
   "source": [
    "# Get data from HTML code\n",
    "Now that we have the html code, we can get the data we need for the Analysis from it."
   ]
  },
  {
   "cell_type": "code",
   "execution_count": null,
   "metadata": {},
   "outputs": [],
   "source": [
    "#Let's look at the first Values\n",
    "Basics[0][0].text\n",
    "age[0][1].text\n",
    "club[0][1].text\n"
   ]
  },
  {
   "cell_type": "code",
   "execution_count": null,
   "metadata": {},
   "outputs": [],
   "source": [
    "#Since every 4th item on web page is a new player, we create a list with every 4th item\n",
    "lst=list(range(len(Basics)))\n",
    "lst[0::4]"
   ]
  },
  {
   "cell_type": "code",
   "execution_count": null,
   "metadata": {},
   "outputs": [],
   "source": [
    "#Create function that cleanes the name list\n",
    "def name_cleaner(lst):\n",
    "    aux_list=[] #Create auxillary list\n",
    "    for i in lst: #Go through Names list and replace the \"\\n\" in the beginning and empty space in end\n",
    "        i=i[:-1]\n",
    "        aux_list.append(i.replace(\"\\n\",\"\"))\n",
    "    return aux_list"
   ]
  },
  {
   "cell_type": "code",
   "execution_count": null,
   "metadata": {},
   "outputs": [],
   "source": [
    "#Create List of Names\n",
    "Names=[]\n",
    "for page in range(len(Basics)):\n",
    "    lst=list(range(len(Basics[page])))\n",
    "    for i in lst[0::4]:\n",
    "        Names.append(Basics[page][i].text) #This is done to replace all the uncessary stuff from the Leauge Name\n",
    "Names=name_cleaner(Names)    "
   ]
  },
  {
   "cell_type": "code",
   "execution_count": null,
   "metadata": {},
   "outputs": [],
   "source": [
    "#Create List of Selling clubs\n",
    "Left=[]\n",
    "\n",
    "for page in range(len(club)):#iterate through all pages\n",
    "    lst=list(range(len(club[page])))#iterate through whole page\n",
    "    for i in lst[0::4]:#Every 4th item new selling club\n",
    "        Left.append(club[page][i].find(\"img\")[\"alt\"]) #Get selling club\n",
    "Left                 "
   ]
  },
  {
   "cell_type": "code",
   "execution_count": null,
   "metadata": {},
   "outputs": [],
   "source": [
    "#Create List of Buying clubs\n",
    "Joined=[]\n",
    "\n",
    "for page in range(len(club)):\n",
    "    lst=list(range(len(club[page])))\n",
    "    for i in lst[2::4]:\n",
    "        Joined.append(club[page][i].find(\"img\")[\"alt\"]) #Get buying club\n",
    "Joined                 "
   ]
  },
  {
   "cell_type": "code",
   "execution_count": null,
   "metadata": {},
   "outputs": [],
   "source": [
    "#Create List of transfer fee\n",
    "Fee=[]\n",
    "\n",
    "for page in range(len(Basics)):\n",
    "    lst=list(range(len(Basics[page])))\n",
    "    for i in lst[3::4]:\n",
    "        Fee.append(Basics[page][i].text) #Get transfer fee\n",
    "Fee"
   ]
  },
  {
   "cell_type": "code",
   "execution_count": null,
   "metadata": {},
   "outputs": [],
   "source": [
    "#Create list with ages\n",
    "age_list=[]\n",
    "\n",
    "for page in range(len(age)):\n",
    "    lst=list(range(len(age[page])))\n",
    "    for i in lst[1::3]:\n",
    "        age_list.append(int(age[page][i].text)) #get age"
   ]
  },
  {
   "cell_type": "code",
   "execution_count": null,
   "metadata": {},
   "outputs": [],
   "source": [
    "#Get player ID on transfermarkt.ch\n",
    "ID=[]\n",
    "\n",
    "for page in range(len(Basics)):\n",
    "    lst=list(range(len(Basics[page])))\n",
    "    for i in lst[0::4]:\n",
    "        ID.append(Basics[page][i].find(\"a\")[\"id\"]) #get player ID\n",
    "ID"
   ]
  },
  {
   "cell_type": "markdown",
   "metadata": {},
   "source": [
    "# Data Handling\n",
    "Now that we have all the data we need in columns, we can create the transfer fee dataframe and perform the necessary data transformations."
   ]
  },
  {
   "cell_type": "code",
   "execution_count": null,
   "metadata": {},
   "outputs": [],
   "source": [
    "#Create Data Frame from the lists\n",
    "df = pd.DataFrame({\"Player\":Names,\"ID\":ID,\"Age\":age_list,\"Left\":Left,\"Joined\":Joined,\"Fee\":Fee})\n",
    "df"
   ]
  },
  {
   "cell_type": "code",
   "execution_count": null,
   "metadata": {},
   "outputs": [],
   "source": [
    "#Create list with True for all players that were loaned or left the club for free, since these data points are irrelevant for our analysis\n",
    "Loans=[]#empty list\n",
    "for i in df.Fee:#iterate through all transfer fees\n",
    "    Loans.append(\"e\" in i) #since all instances we don't need have a \"e\" in them (and only those instances), we get those items"
   ]
  },
  {
   "cell_type": "code",
   "execution_count": null,
   "metadata": {},
   "outputs": [],
   "source": [
    "#get indices and drop players\n",
    "indexNames = df[Loans].index\n",
    "df.drop(indexNames , inplace=True)"
   ]
  },
  {
   "cell_type": "code",
   "execution_count": null,
   "metadata": {},
   "outputs": [],
   "source": [
    "#Since transfer fees are strings, we need to transform them to integer type strings into int and create new list with integers\n",
    "New_List=[]\n",
    "for i in df.Fee:\n",
    "    if \"Mrd\" in i:\n",
    "        i=i.replace(' Mrd. €', '')\n",
    "        i=i.replace(',', '.')\n",
    "        New_List.append(int(float(i)*1000000000))\n",
    "    elif \"Mio\" in i:\n",
    "        i=i.replace(' Mio. €', '')\n",
    "        i=i.replace(',', '.')\n",
    "        New_List.append(int(float(i)*1000000))\n",
    "    elif \"Tsd\" in i:\n",
    "        i=i.replace(' Tsd. €', '')\n",
    "        i=i.replace(',', '.')\n",
    "        New_List.append(int(float(i)*1000))\n",
    "    else:\n",
    "        New_List.append(np.nan)"
   ]
  },
  {
   "cell_type": "code",
   "execution_count": null,
   "metadata": {},
   "outputs": [],
   "source": [
    "#drop old transfer fees that are strings\n",
    "df.drop(\"Fee\", axis = 1, inplace = True)\n",
    "\n",
    "# Add inteeger transfer fees\n",
    "df[\"Fee\"] = New_List"
   ]
  },
  {
   "cell_type": "code",
   "execution_count": null,
   "metadata": {},
   "outputs": [],
   "source": [
    "#drop all np.nan\n",
    "df.dropna(inplace=True)"
   ]
  },
  {
   "cell_type": "code",
   "execution_count": null,
   "metadata": {},
   "outputs": [],
   "source": [
    "#egt all duplicate entries\n",
    "a=df[df.ID.duplicated()]"
   ]
  },
  {
   "cell_type": "code",
   "execution_count": null,
   "metadata": {},
   "outputs": [],
   "source": [
    "#Get list with all inicices of duplicate entries\n",
    "duplicates=[]\n",
    "for i in range(a.shape[0]):\n",
    "    duplicates.append(df.where(df[\"ID\"]==a.iloc[i][\"ID\"]).dropna().index)\n",
    "duplicates"
   ]
  },
  {
   "cell_type": "code",
   "execution_count": null,
   "metadata": {},
   "outputs": [],
   "source": [
    "#go through all plyers that are in dataframe twice (cause they were bought and resold in same transfer window)\n",
    "for i in duplicates:\n",
    "    df.drop(df.loc[i][\"Fee\"].idxmin(), axis=0,inplace=True)#drop lower transferfee"
   ]
  },
  {
   "cell_type": "code",
   "execution_count": null,
   "metadata": {},
   "outputs": [],
   "source": [
    "#drop all duplicates in df\n",
    "df.drop_duplicates(inplace=True)"
   ]
  },
  {
   "cell_type": "code",
   "execution_count": null,
   "metadata": {},
   "outputs": [],
   "source": [
    "#set player name as index\n",
    "df.index=df[\"Player\"]\n",
    "df.drop(\"Player\", axis=1, inplace=True)"
   ]
  },
  {
   "cell_type": "code",
   "execution_count": null,
   "metadata": {},
   "outputs": [],
   "source": [
    "df"
   ]
  },
  {
   "cell_type": "code",
   "execution_count": null,
   "metadata": {},
   "outputs": [],
   "source": [
    "#save df to pickle\n",
    "df.to_pickle(\"Transfers.pkl\")"
   ]
  }
 ],
 "metadata": {
  "kernelspec": {
   "display_name": "Python 3",
   "language": "python",
   "name": "python3"
  },
  "language_info": {
   "codemirror_mode": {
    "name": "ipython",
    "version": 3
   },
   "file_extension": ".py",
   "mimetype": "text/x-python",
   "name": "python",
   "nbconvert_exporter": "python",
   "pygments_lexer": "ipython3",
   "version": "3.8.3"
  }
 },
 "nbformat": 4,
 "nbformat_minor": 4
}
